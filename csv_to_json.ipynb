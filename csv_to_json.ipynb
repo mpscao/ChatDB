{
 "cells": [
  {
   "cell_type": "code",
   "execution_count": 11,
   "metadata": {},
   "outputs": [],
   "source": [
    "import pandas as pd\n",
    "\n",
    "def csv_to_json(csv_file_path, json_file_path):\n",
    "    # Read CSV into a DataFrame\n",
    "    df = pd.read_csv(csv_file_path, encoding='iso-8859-1')\n",
    "\n",
    "    # Convert DataFrame to JSON\n",
    "    df.to_json(json_file_path, orient='records', lines=False, indent=4)\n",
    "\n",
    "# Example Usage\n"
   ]
  },
  {
   "cell_type": "code",
   "execution_count": 12,
   "metadata": {},
   "outputs": [],
   "source": [
    "csv_to_json('disney_movie_stats.csv', 'disney_movie_stats.json')\n",
    "csv_to_json('disney_movies+tvs.csv', 'disney_movies+tvs.json')\n"
   ]
  },
  {
   "cell_type": "code",
   "execution_count": 14,
   "metadata": {},
   "outputs": [],
   "source": [
    "import pandas as pd\n",
    "\n",
    "def csv_to_json(csv_file_path, json_file_path):\n",
    "    # Read CSV into a DataFrame\n",
    "    df = pd.read_csv(csv_file_path, encoding='utf-8')\n",
    "\n",
    "    # Convert DataFrame to JSON\n",
    "    df.to_json(json_file_path, orient='records', lines=False, indent=4)\n",
    "\n",
    "csv_to_json('best_animated_film_winners.csv', 'best_animated_film_winners.json')"
   ]
  },
  {
   "cell_type": "code",
   "execution_count": 15,
   "metadata": {},
   "outputs": [],
   "source": [
    "import pandas as pd\n",
    "\n",
    "def csv_to_json(csv_file_path, json_file_path):\n",
    "    # Read CSV into a DataFrame\n",
    "    df = pd.read_csv(csv_file_path, encoding='utf-8')\n",
    "\n",
    "    # Convert DataFrame to JSON\n",
    "    df.to_json(json_file_path, orient='records', lines=False, indent=4)\n",
    "\n",
    "csv_to_json('banana_quality_dataset.csv', 'banana_quality_dataset.json')"
   ]
  }
 ],
 "metadata": {
  "kernelspec": {
   "display_name": "Python 3",
   "language": "python",
   "name": "python3"
  },
  "language_info": {
   "codemirror_mode": {
    "name": "ipython",
    "version": 3
   },
   "file_extension": ".py",
   "mimetype": "text/x-python",
   "name": "python",
   "nbconvert_exporter": "python",
   "pygments_lexer": "ipython3",
   "version": "3.11.10"
  }
 },
 "nbformat": 4,
 "nbformat_minor": 2
}
